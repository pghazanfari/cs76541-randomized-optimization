{
 "cells": [
  {
   "cell_type": "code",
   "execution_count": 1,
   "id": "8f490624",
   "metadata": {},
   "outputs": [],
   "source": [
    "#!pip install mlrose-hiive"
   ]
  },
  {
   "cell_type": "code",
   "execution_count": 2,
   "id": "5dea07e5",
   "metadata": {},
   "outputs": [],
   "source": [
    "import mlrose_hiive as mlrose\n",
    "import numpy as np\n",
    "import matplotlib.pyplot as plt\n",
    "\n",
    "from tilemap_opt import *"
   ]
  },
  {
   "cell_type": "code",
   "execution_count": 3,
   "id": "4769cd41",
   "metadata": {},
   "outputs": [],
   "source": [
    "tilemap_constraints = TilemapConstraints.from_rules([\n",
    "    ('sand', 'NESW', 'sand'),\n",
    "    ('water', 'NESW', 'water'),\n",
    "    \n",
    "    ('sand_water_north', 'N', 'water'),\n",
    "    ('sand_water_north', 'S', 'sand'),\n",
    "    ('sand_water_north', 'EW', 'sand_water_north'),\n",
    "    ('sand_water_north', 'E', 'sand_water_northeast'),\n",
    "    ('sand_water_north', 'W', 'sand_water_northwest'),\n",
    "    \n",
    "    ('sand_water_east', 'E', 'water'),\n",
    "    ('sand_water_east', 'W', 'sand'),\n",
    "    ('sand_water_east', 'NS', 'sand_water_east'),\n",
    "    ('sand_water_east', 'N', 'sand_water_northeast'),\n",
    "    ('sand_water_east', 'S', 'sand_water_southeast'),\n",
    "    \n",
    "    ('sand_water_northeast', 'NE', 'water'),\n",
    "    #('sand_water_northeast', 'SW', 'sand'),\n",
    "    \n",
    "    ('sand_water_south', 'S', 'water'),\n",
    "    ('sand_water_south', 'N', 'sand'),\n",
    "    ('sand_water_south', 'EW', 'sand_water_south'),\n",
    "    ('sand_water_south', 'E', 'sand_water_southeast'),\n",
    "    ('sand_water_south', 'W', 'sand_water_southwest'),\n",
    "    \n",
    "    ('sand_water_southeast', 'SE', 'water'),\n",
    "    #('sand_water_southeast', 'NW', 'sand'),\n",
    "    \n",
    "    ('sand_water_west', 'W', 'water'),\n",
    "    ('sand_water_west', 'E', 'sand'),\n",
    "    ('sand_water_west', 'NS', 'sand_water_west'),\n",
    "    ('sand_water_west', 'N', 'sand_water_northwest'),\n",
    "    ('sand_water_west', 'S', 'sand_water_southwest'),\n",
    "    \n",
    "    ('sand_water_southwest', 'SW', 'water'),\n",
    "    #('sand_water_southwest', 'NE', 'sand'),\n",
    "    \n",
    "    ('sand_water_northwest', 'NW', 'water'),\n",
    "    #('sand_water_northwest', 'SE', 'sand')\n",
    "])"
   ]
  },
  {
   "cell_type": "code",
   "execution_count": 4,
   "id": "fe0b8a9b",
   "metadata": {},
   "outputs": [
    {
     "name": "stdout",
     "output_type": "stream",
     "text": [
      "The best state found is:  [1 1 8 7 5 1 1 8 9 0 2 4 1 6 1 4 2 5 6 7 7 3 1 6 1 9 6 3 1 1 1 4 6 6 1 4 8\n",
      " 1 1 1 3 0 4 5 1 4 0 4 2 3 8 6 9 1 3 1 2 8 0 0 1 1 9 7 3 8 6 1 9 8 2 4 8 0\n",
      " 5 1 1 1 4 1 5 8 7 4 7 6 1 1 1 1 5 1 1 1 1 1 1 4 3 1]\n",
      "The fitness at the best state is:  0.31\n"
     ]
    }
   ],
   "source": [
    "# tilemap_constraints = TilemapConstraints.from_rules([\n",
    "#     ('grass', 'NESW', 'grass'),\n",
    "#     ('sand', 'NESW', 'sand'),\n",
    "#     ('water', 'NESW', 'water'),\n",
    "#     ('sand', 'NESW', 'water'),\n",
    "#     ('grass', 'NESW', 'sand')\n",
    "# ])\n",
    "\n",
    "problem = TilemapGeneration((10, 10), tilemap_constraints)\n",
    "schedule = mlrose.ExpDecay()\n",
    "#best_state, best_fitness, fitness_curve = mlrose.simulated_annealing(problem, schedule=schedule, max_attempts=100, max_iters=1000)\n",
    "best_state, best_fitness, fitness_curve = mlrose.mimic(problem, max_attempts=10, max_iters=100)\n",
    "print('The best state found is: ', best_state)\n",
    "print('The fitness at the best state is: ', best_fitness)"
   ]
  },
  {
   "cell_type": "code",
   "execution_count": 5,
   "id": "60b10c85",
   "metadata": {},
   "outputs": [
    {
     "name": "stdout",
     "output_type": "stream",
     "text": [
      "(160, 160, 3)\n"
     ]
    },
    {
     "data": {
      "text/plain": [
       "<matplotlib.image.AxesImage at 0x7fc9e573c970>"
      ]
     },
     "execution_count": 5,
     "metadata": {},
     "output_type": "execute_result"
    },
    {
     "data": {
      "image/png": "[encoded data removed]",
      "text/plain": [
       "<Figure size 432x288 with 1 Axes>"
      ]
     },
     "metadata": {
      "needs_background": "light"
     },
     "output_type": "display_data"
    }
   ],
   "source": [
    "grass = (0, 1.0, 0)\n",
    "sand = (0.76, 0.7, 0.5)\n",
    "water = (0, 0, 1.0)\n",
    "\n",
    "tilemap_images = {\n",
    "    'grass': np.full((16, 16, 3), fill_value=grass),\n",
    "    'sand': np.full((16, 16, 3), fill_value=sand),\n",
    "    'water': np.full((16, 16, 3), fill_value=water),\n",
    "}\n",
    "\n",
    "tilemap_images['sand_water_north'] = np.full((16, 16, 3), fill_value=sand)\n",
    "tilemap_images['sand_water_north'][:8, :, :] = water\n",
    "tilemap_images['sand_water_north'][8, :, :] = (1.0, 0, 0)\n",
    "\n",
    "tilemap_images['sand_water_east'] = np.full((16, 16, 3), fill_value=sand)\n",
    "tilemap_images['sand_water_east'][:, 8:, :] = water\n",
    "tilemap_images['sand_water_east'][:, 8, :] = (1.0, 0, 0)\n",
    "\n",
    "tilemap_images['sand_water_south'] = np.full((16, 16, 3), fill_value=sand)\n",
    "tilemap_images['sand_water_south'][8:, :, :] = water\n",
    "tilemap_images['sand_water_south'][8, :, :] = (1.0, 0, 0)\n",
    "\n",
    "tilemap_images['sand_water_west'] = np.full((16, 16, 3), fill_value=sand)\n",
    "tilemap_images['sand_water_west'][:, :8, :] = water\n",
    "tilemap_images['sand_water_west'][:, 8, :] = (1.0, 0, 0)\n",
    "\n",
    "tilemap_images['sand_water_northeast'] = np.full((16, 16, 3), fill_value=water)\n",
    "tilemap_images['sand_water_northeast'][8:, :8, :] = sand\n",
    "tilemap_images['sand_water_northeast'][8, :8, :] = (1.0, 0, 0)\n",
    "tilemap_images['sand_water_northeast'][8:, 8, :] = (1.0, 0, 0)\n",
    "\n",
    "tilemap_images['sand_water_southeast'] = np.full((16, 16, 3), fill_value=water)\n",
    "tilemap_images['sand_water_southeast'][:8, :8, :] = sand\n",
    "tilemap_images['sand_water_southeast'][8, :8, :] = (1.0, 0, 0)\n",
    "tilemap_images['sand_water_southeast'][:8, 8, :] = (1.0, 0, 0)\n",
    "\n",
    "tilemap_images['sand_water_southwest'] = np.full((16, 16, 3), fill_value=water)\n",
    "tilemap_images['sand_water_southwest'][:8, 8:, :] = sand\n",
    "tilemap_images['sand_water_southwest'][:8, 8, :]= (1.0, 0, 0)\n",
    "tilemap_images['sand_water_southwest'][8, 8:, :] = (1.0, 0, 0)\n",
    "\n",
    "tilemap_images['sand_water_northwest'] = np.full((16, 16, 3), fill_value=water)\n",
    "tilemap_images['sand_water_northwest'][8:, 8:, :] = sand\n",
    "tilemap_images['sand_water_northwest'][8:, 8, :] = (1.0, 0, 0)\n",
    "tilemap_images['sand_water_northwest'][8, 8:, :] = (1.0, 0, 0)\n",
    "\n",
    "for k in tilemap_images:\n",
    "    tilemap_images[k][15, :, :] = (0, 0, 0)\n",
    "    tilemap_images[k][:, 15, :] = (0, 0, 0)\n",
    "\n",
    "\n",
    "rasterizer = TilemapRasterizer(problem, tilemap_images)\n",
    "\n",
    "img = rasterizer.rasterize(best_state)\n",
    "print(img.shape)\n",
    "plt.imshow(img)\n",
    "\n",
    "#str_state = np.array(tilemap_constraints.stringify(best_state), dtype=str).reshape(problem.size + (-1,))\n",
    "#print(str_state)"
   ]
  },
  {
   "cell_type": "code",
   "execution_count": null,
   "id": "f2c82e8f",
   "metadata": {},
   "outputs": [],
   "source": []
  }
 ],
 "metadata": {
  "kernelspec": {
   "display_name": "conda_pytorch_p38",
   "language": "python",
   "name": "conda_pytorch_p38"
  },
  "language_info": {
   "codemirror_mode": {
    "name": "ipython",
    "version": 3
   },
   "file_extension": ".py",
   "mimetype": "text/x-python",
   "name": "python",
   "nbconvert_exporter": "python",
   "pygments_lexer": "ipython3",
   "version": "3.8.12"
  }
 },
 "nbformat": 4,
 "nbformat_minor": 5
}
